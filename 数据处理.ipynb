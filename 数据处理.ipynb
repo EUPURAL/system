{
 "cells": [
  {
   "cell_type": "code",
   "execution_count": 1,
   "id": "34c69ce8",
   "metadata": {},
   "outputs": [],
   "source": [
    "import pandas as pd\n",
    "import numpy as np"
   ]
  },
  {
   "cell_type": "code",
   "execution_count": 3,
   "id": "4d7f2bf4",
   "metadata": {},
   "outputs": [
    {
     "data": {
      "text/plain": [
       "(446025, 9)"
      ]
     },
     "execution_count": 3,
     "metadata": {},
     "output_type": "execute_result"
    }
   ],
   "source": [
    "file_path='./rooms_data.csv'\n",
    "cols=['xiaoqu_id','bedroom_num','has_lift','living_area','has_balcony','price','rent_type','face','city']\n",
    "df=pd.read_csv(file_path,usecols=cols)\n",
    "df.shape"
   ]
  },
  {
   "cell_type": "code",
   "execution_count": 4,
   "id": "aaa983db",
   "metadata": {},
   "outputs": [
    {
     "data": {
      "text/html": [
       "<div>\n",
       "<style scoped>\n",
       "    .dataframe tbody tr th:only-of-type {\n",
       "        vertical-align: middle;\n",
       "    }\n",
       "\n",
       "    .dataframe tbody tr th {\n",
       "        vertical-align: top;\n",
       "    }\n",
       "\n",
       "    .dataframe thead th {\n",
       "        text-align: right;\n",
       "    }\n",
       "</style>\n",
       "<table border=\"1\" class=\"dataframe\">\n",
       "  <thead>\n",
       "    <tr style=\"text-align: right;\">\n",
       "      <th></th>\n",
       "      <th>xiaoqu_id</th>\n",
       "      <th>bedroom_num</th>\n",
       "      <th>has_lift</th>\n",
       "      <th>living_area</th>\n",
       "      <th>has_balcony</th>\n",
       "      <th>price</th>\n",
       "      <th>rent_type</th>\n",
       "      <th>face</th>\n",
       "      <th>city</th>\n",
       "    </tr>\n",
       "  </thead>\n",
       "  <tbody>\n",
       "    <tr>\n",
       "      <th>0</th>\n",
       "      <td>9</td>\n",
       "      <td>4</td>\n",
       "      <td>有</td>\n",
       "      <td>16.0</td>\n",
       "      <td>无</td>\n",
       "      <td>3620.0</td>\n",
       "      <td>合租</td>\n",
       "      <td>南</td>\n",
       "      <td>北京市</td>\n",
       "    </tr>\n",
       "    <tr>\n",
       "      <th>1</th>\n",
       "      <td>9</td>\n",
       "      <td>4</td>\n",
       "      <td>有</td>\n",
       "      <td>15.0</td>\n",
       "      <td>无</td>\n",
       "      <td>3030.0</td>\n",
       "      <td>合租</td>\n",
       "      <td>南</td>\n",
       "      <td>北京市</td>\n",
       "    </tr>\n",
       "    <tr>\n",
       "      <th>2</th>\n",
       "      <td>9</td>\n",
       "      <td>4</td>\n",
       "      <td>有</td>\n",
       "      <td>13.0</td>\n",
       "      <td>有</td>\n",
       "      <td>2990.0</td>\n",
       "      <td>合租</td>\n",
       "      <td>南</td>\n",
       "      <td>北京市</td>\n",
       "    </tr>\n",
       "    <tr>\n",
       "      <th>3</th>\n",
       "      <td>9</td>\n",
       "      <td>4</td>\n",
       "      <td>有</td>\n",
       "      <td>23.0</td>\n",
       "      <td>有</td>\n",
       "      <td>3280.0</td>\n",
       "      <td>合租</td>\n",
       "      <td>南</td>\n",
       "      <td>北京市</td>\n",
       "    </tr>\n",
       "    <tr>\n",
       "      <th>4</th>\n",
       "      <td>9</td>\n",
       "      <td>3</td>\n",
       "      <td>有</td>\n",
       "      <td>16.0</td>\n",
       "      <td>无</td>\n",
       "      <td>3770.0</td>\n",
       "      <td>合租</td>\n",
       "      <td>西南</td>\n",
       "      <td>北京市</td>\n",
       "    </tr>\n",
       "  </tbody>\n",
       "</table>\n",
       "</div>"
      ],
      "text/plain": [
       "   xiaoqu_id  bedroom_num has_lift  living_area has_balcony   price rent_type  \\\n",
       "0          9            4        有         16.0           无  3620.0        合租   \n",
       "1          9            4        有         15.0           无  3030.0        合租   \n",
       "2          9            4        有         13.0           有  2990.0        合租   \n",
       "3          9            4        有         23.0           有  3280.0        合租   \n",
       "4          9            3        有         16.0           无  3770.0        合租   \n",
       "\n",
       "  face city  \n",
       "0    南  北京市  \n",
       "1    南  北京市  \n",
       "2    南  北京市  \n",
       "3    南  北京市  \n",
       "4   西南  北京市  "
      ]
     },
     "execution_count": 4,
     "metadata": {},
     "output_type": "execute_result"
    }
   ],
   "source": [
    "df.head()"
   ]
  },
  {
   "cell_type": "code",
   "execution_count": 5,
   "id": "59ec7347",
   "metadata": {},
   "outputs": [
    {
     "name": "stdout",
     "output_type": "stream",
     "text": [
      "<class 'pandas.core.frame.DataFrame'>\n",
      "RangeIndex: 446025 entries, 0 to 446024\n",
      "Data columns (total 9 columns):\n",
      " #   Column       Non-Null Count   Dtype  \n",
      "---  ------       --------------   -----  \n",
      " 0   xiaoqu_id    446025 non-null  int64  \n",
      " 1   bedroom_num  446025 non-null  int64  \n",
      " 2   has_lift     446021 non-null  object \n",
      " 3   living_area  445994 non-null  float64\n",
      " 4   has_balcony  442087 non-null  object \n",
      " 5   price        445761 non-null  float64\n",
      " 6   rent_type    446024 non-null  object \n",
      " 7   face         445970 non-null  object \n",
      " 8   city         446025 non-null  object \n",
      "dtypes: float64(2), int64(2), object(5)\n",
      "memory usage: 30.6+ MB\n"
     ]
    }
   ],
   "source": [
    "df.info()"
   ]
  },
  {
   "cell_type": "code",
   "execution_count": null,
   "id": "5ebe8e12",
   "metadata": {},
   "outputs": [],
   "source": []
  }
 ],
 "metadata": {
  "kernelspec": {
   "display_name": "Python 3 (ipykernel)",
   "language": "python",
   "name": "python3"
  },
  "language_info": {
   "codemirror_mode": {
    "name": "ipython",
    "version": 3
   },
   "file_extension": ".py",
   "mimetype": "text/x-python",
   "name": "python",
   "nbconvert_exporter": "python",
   "pygments_lexer": "ipython3",
   "version": "3.9.13"
  }
 },
 "nbformat": 4,
 "nbformat_minor": 5
}
